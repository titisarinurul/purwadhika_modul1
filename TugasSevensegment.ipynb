{
 "cells": [
  {
   "cell_type": "markdown",
   "metadata": {},
   "source": [
    "### Tugas "
   ]
  },
  {
   "cell_type": "markdown",
   "metadata": {},
   "source": [
    "Main Menu\n",
    "    1. isi List\n",
    "    2. Lihat List\n",
    "    3. Keluar\n",
    "\n",
    "Menu1 :\n",
    "    Masukkan Angka(1-9):(input ke list)\n",
    "\n",
    "Menu2 : tampilkan list dalam bentuk score board\n",
    "    \n",
    "    ---\n",
    "   |   |\n",
    "    ---\n",
    "   |   |\n",
    "    ---"
   ]
  },
  {
   "cell_type": "code",
   "execution_count": 2,
   "metadata": {},
   "outputs": [
    {
     "name": "stdout",
     "output_type": "stream",
     "text": [
      " ===     ===    \n",
      "    |   |       \n",
      " ===     ===    \n",
      "    |       |   \n",
      " ===     ===    \n",
      "\n",
      "['3', '5']\n",
      " 1.Input list\n",
      " 2.Lihat List\n",
      " 3.Keluar\n",
      " Masukkan Menu : 3\n"
     ]
    }
   ],
   "source": [
    "from IPython.display import clear_output\n",
    "lib_lampu={\n",
    "    '1':[0,1,0,1,0],\n",
    "    '2':[1,1,1,2,1],\n",
    "    '3':[1,1,1,1,1],\n",
    "    '4':[0,3,1,1,0],\n",
    "    '5':[1,2,1,1,1],\n",
    "    '6':[1,2,1,3,1],\n",
    "    '7':[1,1,0,1,0],\n",
    "    '8':[1,3,1,3,1],\n",
    "    '9':[1,3,1,1,1]\n",
    "}\n",
    "\n",
    "#list_angka=['1','2','3','4','5','6','7','8','9']\n",
    "list_angka=[]\n",
    "menu=''\n",
    "while menu!='3':\n",
    "    menu=input(' 1.Input list\\n 2.Lihat List\\n 3.Keluar\\n Masukkan Menu : ')\n",
    "    if menu=='1':\n",
    "        clear_output()\n",
    "        list_angka.append(input('Masukkan Angka(1-9): '))\n",
    "    elif menu=='2':\n",
    "        clear_output()\n",
    "        temp=''\n",
    "        for i in range(0,5):\n",
    "            for angka in list_angka:\n",
    "                if i%2==0:\n",
    "                    if lib_lampu[angka][i]==0 : temp+='     '\n",
    "                    elif lib_lampu[angka][i]==1 : temp+=' === '\n",
    "                else:\n",
    "                    if lib_lampu[angka][i]==0 :   temp+='     '\n",
    "                    elif lib_lampu[angka][i]==1 : temp+='    |'\n",
    "                    elif lib_lampu[angka][i]==2 : temp+='|    '\n",
    "                    elif lib_lampu[angka][i]==3 : temp+='|   |'\n",
    "                temp+='   '\n",
    "            temp+='\\n'\n",
    "        print(temp)\n",
    "        print(list_angka)\n",
    "                    "
   ]
  },
  {
   "cell_type": "code",
   "execution_count": null,
   "metadata": {},
   "outputs": [],
   "source": []
  }
 ],
 "metadata": {
  "kernelspec": {
   "display_name": "Python 3",
   "language": "python",
   "name": "python3"
  },
  "language_info": {
   "codemirror_mode": {
    "name": "ipython",
    "version": 3
   },
   "file_extension": ".py",
   "mimetype": "text/x-python",
   "name": "python",
   "nbconvert_exporter": "python",
   "pygments_lexer": "ipython3",
   "version": "3.6.5"
  }
 },
 "nbformat": 4,
 "nbformat_minor": 2
}
